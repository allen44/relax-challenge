{
 "cells": [
  {
   "cell_type": "code",
   "execution_count": 1,
   "source": [
    "import pandas as pd\r\n",
    "import numpy as np\r\n",
    "import matplotlib.pyplot as plt"
   ],
   "outputs": [],
   "metadata": {}
  },
  {
   "cell_type": "code",
   "execution_count": 2,
   "source": [
    "users = pd.read_csv('takehome_users.csv', parse_dates=['creation_time'])\r\n",
    "engagement = pd.read_csv('takehome_user_engagement.csv')\r\n",
    "\r\n",
    "# Set dtypes\r\n",
    "users = users.astype({'object_id': pd.Int64Dtype(),\r\n",
    "                    'name': 'category',\r\n",
    "                    'email': 'category',\r\n",
    "                    'creation_source': 'category',\r\n",
    "                    # 'last_session_creation_time': pd.Timedelta(),\r\n",
    "                    'opted_in_to_mailing_list': bool,\r\n",
    "                    'enabled_for_marketing_drip': bool,\r\n",
    "                    'org_id': 'category',\r\n",
    "                    'invited_by_user_id': pd.Int64Dtype()})\r\n",
    "users['last_session_creation_time'] = pd.to_timedelta(users['last_session_creation_time'])\r\n",
    "users = users.set_index('object_id')\r\n",
    "\r\n",
    "engagement = engagement.astype({'user_id': 'category',\r\n",
    "                                'visited': pd.Int8Dtype(),\r\n",
    "                                'user_id': 'category'})\r\n",
    "engagement['time_stamp'] = pd.to_datetime(engagement['time_stamp'])\r\n",
    "engagement = engagement.set_index('time_stamp')"
   ],
   "outputs": [],
   "metadata": {}
  },
  {
   "cell_type": "code",
   "execution_count": 4,
   "source": [
    "users.dtypes"
   ],
   "outputs": [
    {
     "output_type": "execute_result",
     "data": {
      "text/plain": [
       "creation_time                  datetime64[ns]\n",
       "name                                 category\n",
       "email                                category\n",
       "creation_source                      category\n",
       "last_session_creation_time    timedelta64[ns]\n",
       "opted_in_to_mailing_list                 bool\n",
       "enabled_for_marketing_drip               bool\n",
       "org_id                               category\n",
       "invited_by_user_id                      Int64\n",
       "dtype: object"
      ]
     },
     "metadata": {},
     "execution_count": 4
    }
   ],
   "metadata": {}
  },
  {
   "cell_type": "markdown",
   "source": [
    "There's no common columns for joining the two dataframes. "
   ],
   "metadata": {}
  },
  {
   "cell_type": "markdown",
   "source": [
    "## Exploring the Engagement table"
   ],
   "metadata": {}
  },
  {
   "cell_type": "code",
   "execution_count": 79,
   "source": [
    "engagement"
   ],
   "outputs": [
    {
     "output_type": "execute_result",
     "data": {
      "text/plain": [
       "                    user_id  visited\n",
       "time_stamp                          \n",
       "2014-04-22 03:53:30       1        1\n",
       "2013-11-15 03:45:04       2        1\n",
       "2013-11-29 03:45:04       2        1\n",
       "2013-12-09 03:45:04       2        1\n",
       "2013-12-25 03:45:04       2        1\n",
       "...                     ...      ...\n",
       "2013-09-06 06:14:15   11996        1\n",
       "2013-01-15 18:28:37   11997        1\n",
       "2014-04-27 12:45:16   11998        1\n",
       "2012-06-02 11:55:59   11999        1\n",
       "2014-01-26 08:57:12   12000        1\n",
       "\n",
       "[207917 rows x 2 columns]"
      ],
      "text/html": [
       "<div>\n",
       "<style scoped>\n",
       "    .dataframe tbody tr th:only-of-type {\n",
       "        vertical-align: middle;\n",
       "    }\n",
       "\n",
       "    .dataframe tbody tr th {\n",
       "        vertical-align: top;\n",
       "    }\n",
       "\n",
       "    .dataframe thead th {\n",
       "        text-align: right;\n",
       "    }\n",
       "</style>\n",
       "<table border=\"1\" class=\"dataframe\">\n",
       "  <thead>\n",
       "    <tr style=\"text-align: right;\">\n",
       "      <th></th>\n",
       "      <th>user_id</th>\n",
       "      <th>visited</th>\n",
       "    </tr>\n",
       "    <tr>\n",
       "      <th>time_stamp</th>\n",
       "      <th></th>\n",
       "      <th></th>\n",
       "    </tr>\n",
       "  </thead>\n",
       "  <tbody>\n",
       "    <tr>\n",
       "      <th>2014-04-22 03:53:30</th>\n",
       "      <td>1</td>\n",
       "      <td>1</td>\n",
       "    </tr>\n",
       "    <tr>\n",
       "      <th>2013-11-15 03:45:04</th>\n",
       "      <td>2</td>\n",
       "      <td>1</td>\n",
       "    </tr>\n",
       "    <tr>\n",
       "      <th>2013-11-29 03:45:04</th>\n",
       "      <td>2</td>\n",
       "      <td>1</td>\n",
       "    </tr>\n",
       "    <tr>\n",
       "      <th>2013-12-09 03:45:04</th>\n",
       "      <td>2</td>\n",
       "      <td>1</td>\n",
       "    </tr>\n",
       "    <tr>\n",
       "      <th>2013-12-25 03:45:04</th>\n",
       "      <td>2</td>\n",
       "      <td>1</td>\n",
       "    </tr>\n",
       "    <tr>\n",
       "      <th>...</th>\n",
       "      <td>...</td>\n",
       "      <td>...</td>\n",
       "    </tr>\n",
       "    <tr>\n",
       "      <th>2013-09-06 06:14:15</th>\n",
       "      <td>11996</td>\n",
       "      <td>1</td>\n",
       "    </tr>\n",
       "    <tr>\n",
       "      <th>2013-01-15 18:28:37</th>\n",
       "      <td>11997</td>\n",
       "      <td>1</td>\n",
       "    </tr>\n",
       "    <tr>\n",
       "      <th>2014-04-27 12:45:16</th>\n",
       "      <td>11998</td>\n",
       "      <td>1</td>\n",
       "    </tr>\n",
       "    <tr>\n",
       "      <th>2012-06-02 11:55:59</th>\n",
       "      <td>11999</td>\n",
       "      <td>1</td>\n",
       "    </tr>\n",
       "    <tr>\n",
       "      <th>2014-01-26 08:57:12</th>\n",
       "      <td>12000</td>\n",
       "      <td>1</td>\n",
       "    </tr>\n",
       "  </tbody>\n",
       "</table>\n",
       "<p>207917 rows × 2 columns</p>\n",
       "</div>"
      ]
     },
     "metadata": {},
     "execution_count": 79
    }
   ],
   "metadata": {}
  },
  {
   "cell_type": "code",
   "execution_count": 6,
   "source": [
    "engagement['visited'].plot()"
   ],
   "outputs": [
    {
     "output_type": "execute_result",
     "data": {
      "text/plain": [
       "<AxesSubplot:xlabel='time_stamp'>"
      ]
     },
     "metadata": {},
     "execution_count": 6
    },
    {
     "output_type": "display_data",
     "data": {
      "text/plain": [
       "<Figure size 432x288 with 1 Axes>"
      ],
      "image/png": "[encoded data removed]"
     },
     "metadata": {
      "needs_background": "light"
     }
    }
   ],
   "metadata": {}
  },
  {
   "cell_type": "code",
   "execution_count": 7,
   "source": [
    "engagement['visited'].value_counts()"
   ],
   "outputs": [
    {
     "output_type": "execute_result",
     "data": {
      "text/plain": [
       "1    207917\n",
       "Name: visited, dtype: Int64"
      ]
     },
     "metadata": {},
     "execution_count": 7
    }
   ],
   "metadata": {}
  },
  {
   "cell_type": "markdown",
   "source": [
    "All values of engagement['visited'] are 1."
   ],
   "metadata": {}
  },
  {
   "cell_type": "code",
   "execution_count": 8,
   "source": [
    "def plot_grouped(grouped, by=None):\r\n",
    "    mean = grouped.count().mean().iloc[0]\r\n",
    "    std = grouped.count().std().iloc[0]\r\n",
    "    grouped.count().plot()\r\n",
    "    plt.axhline(mean, color='gray', linestyle = '-', alpha=0.5, label='mean')\r\n",
    "    plt.axhline(mean+std, color='gray', linestyle = '--', alpha=0.2, label='1 st. dev.')\r\n",
    "    plt.axhline(mean-std, color='gray', linestyle = '--', alpha=0.2)\r\n",
    "    plt.legend()"
   ],
   "outputs": [],
   "metadata": {}
  },
  {
   "cell_type": "code",
   "execution_count": 9,
   "source": [
    "engagement_15T = engagement.resample('15T')\r\n",
    "\r\n",
    "plot_grouped(engagement_15T)\r\n",
    "plt.title('Login count per 15-minute interval')\r\n",
    "plt.ylabel('Count')"
   ],
   "outputs": [
    {
     "output_type": "execute_result",
     "data": {
      "text/plain": [
       "Text(0, 0.5, 'Count')"
      ]
     },
     "metadata": {},
     "execution_count": 9
    },
    {
     "output_type": "display_data",
     "data": {
      "text/plain": [
       "<Figure size 432x288 with 1 Axes>"
      ],
      "image/png": "[encoded data removed]"
     },
     "metadata": {
      "needs_background": "light"
     }
    }
   ],
   "metadata": {}
  },
  {
   "cell_type": "markdown",
   "source": [
    "The 15 minute aggregation has too much data to make sense of on a simple plot."
   ],
   "metadata": {}
  },
  {
   "cell_type": "code",
   "execution_count": 10,
   "source": [
    "engagement_1M = engagement.resample('M')\r\n",
    "\r\n",
    "plot_grouped(engagement_1M)\r\n",
    "plt.title('Login count per month')\r\n",
    "plt.ylabel('Count')"
   ],
   "outputs": [
    {
     "output_type": "execute_result",
     "data": {
      "text/plain": [
       "Text(0, 0.5, 'Count')"
      ]
     },
     "metadata": {},
     "execution_count": 10
    },
    {
     "output_type": "display_data",
     "data": {
      "text/plain": [
       "<Figure size 432x288 with 1 Axes>"
      ],
      "image/png": "[encoded data removed]"
     },
     "metadata": {
      "needs_background": "light"
     }
    }
   ],
   "metadata": {}
  },
  {
   "cell_type": "code",
   "execution_count": 11,
   "source": [
    "engagement_1W = engagement.resample('W')\r\n",
    "\r\n",
    "plot_grouped(engagement_1W)\r\n",
    "plt.title('Login count per week')\r\n",
    "plt.ylabel('Count')"
   ],
   "outputs": [
    {
     "output_type": "execute_result",
     "data": {
      "text/plain": [
       "Text(0, 0.5, 'Count')"
      ]
     },
     "metadata": {},
     "execution_count": 11
    },
    {
     "output_type": "display_data",
     "data": {
      "text/plain": [
       "<Figure size 432x288 with 1 Axes>"
      ],
      "image/png": "[encoded data removed]"
     },
     "metadata": {
      "needs_background": "light"
     }
    }
   ],
   "metadata": {}
  },
  {
   "cell_type": "code",
   "execution_count": 12,
   "source": [
    "engagement_1D = engagement.resample('D')\r\n",
    "\r\n",
    "plot_grouped(engagement_1D)\r\n",
    "plt.title('Login count per day')\r\n",
    "plt.ylabel('Count')"
   ],
   "outputs": [
    {
     "output_type": "execute_result",
     "data": {
      "text/plain": [
       "Text(0, 0.5, 'Count')"
      ]
     },
     "metadata": {},
     "execution_count": 12
    },
    {
     "output_type": "display_data",
     "data": {
      "text/plain": [
       "<Figure size 432x288 with 1 Axes>"
      ],
      "image/png": "[encoded data removed]"
     },
     "metadata": {
      "needs_background": "light"
     }
    }
   ],
   "metadata": {}
  },
  {
   "cell_type": "markdown",
   "source": [],
   "metadata": {}
  },
  {
   "cell_type": "code",
   "execution_count": 13,
   "source": [
    "engagement_1D.count().tail(50).plot()"
   ],
   "outputs": [
    {
     "output_type": "execute_result",
     "data": {
      "text/plain": [
       "<AxesSubplot:xlabel='time_stamp'>"
      ]
     },
     "metadata": {},
     "execution_count": 13
    },
    {
     "output_type": "display_data",
     "data": {
      "text/plain": [
       "<Figure size 432x288 with 1 Axes>"
      ],
      "image/png": "[encoded data removed]"
     },
     "metadata": {
      "needs_background": "light"
     }
    }
   ],
   "metadata": {}
  },
  {
   "cell_type": "markdown",
   "source": [
    "We can see the the daily, weekly, and monthly charts above, that the users' logins per unit time has increased steadily since June 2012 but descreased sharply after May 22, 2014.\r\n",
    "\r\n",
    "From the engagement table alone, we don't have any data to explain this sharp decline."
   ],
   "metadata": {}
  },
  {
   "cell_type": "code",
   "execution_count": 69,
   "source": [
    "fig, ax = plt.subplots(1, 2, figsize=(8,6))\r\n",
    "\r\n",
    "engagement_by_user = engagement.groupby('user_id')\r\n",
    "engagement_by_user.count().squeeze().value_counts().head(20).plot(kind='bar', ax=ax[0])\r\n",
    "ax[0].set_ylabel('frequency')\r\n",
    "ax[0].set_xlabel('number of logins')\r\n",
    "fig.suptitle('Frequency of Number of times logged in by each user id')\r\n",
    "\r\n",
    "engagement_by_user.count().squeeze().value_counts().sort_index().tail(20).plot(kind='bar', ax=ax[1])\r\n",
    "ax[1].set_ylabel('frequency')\r\n",
    "ax[1].set_xlabel('number of logins')\r\n",
    "# ax[1].set_title('Frequency of Number of times logged in by each user id')\r\n",
    "\r\n",
    "plt.tight_layout()"
   ],
   "outputs": [
    {
     "output_type": "display_data",
     "data": {
      "text/plain": [
       "<Figure size 576x432 with 2 Axes>"
      ],
      "image/png": "[encoded data removed]"
     },
     "metadata": {
      "needs_background": "light"
     }
    }
   ],
   "metadata": {}
  },
  {
   "cell_type": "markdown",
   "source": [
    "Most users have logged on only one time ever, as shown in the first chart above. \r\n",
    "\r\n",
    "The second chart shows that there are two frequent users who logged in at least 600 times, and there are 20 users who have logged in more than 20 times."
   ],
   "metadata": {}
  },
  {
   "cell_type": "markdown",
   "source": [],
   "metadata": {}
  },
  {
   "cell_type": "markdown",
   "source": [
    "## Exploring the Users table"
   ],
   "metadata": {}
  },
  {
   "cell_type": "code",
   "execution_count": 77,
   "source": [
    "users"
   ],
   "outputs": [
    {
     "output_type": "execute_result",
     "data": {
      "text/plain": [
       "                creation_time               name                       email  \\\n",
       "object_id                                                                      \n",
       "1         2014-04-22 03:53:30     Clausen August    AugustCClausen@yahoo.com   \n",
       "2         2013-11-15 03:45:04      Poole Matthew      MatthewPoole@gustr.com   \n",
       "3         2013-03-19 23:14:52  Bottrill Mitchell  MitchellBottrill@gustr.com   \n",
       "4         2013-05-21 08:09:28    Clausen Nicklas   NicklasSClausen@yahoo.com   \n",
       "5         2013-01-17 10:14:20          Raw Grace          GraceRaw@yahoo.com   \n",
       "...                       ...                ...                         ...   \n",
       "11996     2013-09-06 06:14:15       Meier Sophia       SophiaMeier@gustr.com   \n",
       "11997     2013-01-10 18:28:37      Fisher Amelie      AmelieFisher@gmail.com   \n",
       "11998     2014-04-27 12:45:16        Haynes Jake         JakeHaynes@cuvox.de   \n",
       "11999     2012-05-31 11:55:59       Faber Annett          mhaerzxp@iuxiw.com   \n",
       "12000     2014-01-26 08:57:12         Lima Tha�s   ThaisMeloLima@hotmail.com   \n",
       "\n",
       "              creation_source last_session_creation_time  \\\n",
       "object_id                                                  \n",
       "1                GUEST_INVITE  0 days 00:00:01.398138810   \n",
       "2                  ORG_INVITE  0 days 00:00:01.396237504   \n",
       "3                  ORG_INVITE  0 days 00:00:01.363734892   \n",
       "4                GUEST_INVITE  0 days 00:00:01.369210168   \n",
       "5                GUEST_INVITE  0 days 00:00:01.358849660   \n",
       "...                       ...                        ...   \n",
       "11996              ORG_INVITE  0 days 00:00:01.378448055   \n",
       "11997      SIGNUP_GOOGLE_AUTH  0 days 00:00:01.358274517   \n",
       "11998            GUEST_INVITE  0 days 00:00:01.398602716   \n",
       "11999       PERSONAL_PROJECTS  0 days 00:00:01.338638159   \n",
       "12000                  SIGNUP  0 days 00:00:01.390726632   \n",
       "\n",
       "           opted_in_to_mailing_list  enabled_for_marketing_drip org_id  \\\n",
       "object_id                                                                \n",
       "1                              True                       False     11   \n",
       "2                             False                       False      1   \n",
       "3                             False                       False     94   \n",
       "4                             False                       False      1   \n",
       "5                             False                       False    193   \n",
       "...                             ...                         ...    ...   \n",
       "11996                         False                       False     89   \n",
       "11997                         False                       False    200   \n",
       "11998                          True                        True     83   \n",
       "11999                         False                       False      6   \n",
       "12000                         False                        True      0   \n",
       "\n",
       "           invited_by_user_id  \n",
       "object_id                      \n",
       "1                       10803  \n",
       "2                         316  \n",
       "3                        1525  \n",
       "4                        5151  \n",
       "5                        5240  \n",
       "...                       ...  \n",
       "11996                    8263  \n",
       "11997                    <NA>  \n",
       "11998                    8074  \n",
       "11999                    <NA>  \n",
       "12000                    <NA>  \n",
       "\n",
       "[12000 rows x 9 columns]"
      ],
      "text/html": [
       "<div>\n",
       "<style scoped>\n",
       "    .dataframe tbody tr th:only-of-type {\n",
       "        vertical-align: middle;\n",
       "    }\n",
       "\n",
       "    .dataframe tbody tr th {\n",
       "        vertical-align: top;\n",
       "    }\n",
       "\n",
       "    .dataframe thead th {\n",
       "        text-align: right;\n",
       "    }\n",
       "</style>\n",
       "<table border=\"1\" class=\"dataframe\">\n",
       "  <thead>\n",
       "    <tr style=\"text-align: right;\">\n",
       "      <th></th>\n",
       "      <th>creation_time</th>\n",
       "      <th>name</th>\n",
       "      <th>email</th>\n",
       "      <th>creation_source</th>\n",
       "      <th>last_session_creation_time</th>\n",
       "      <th>opted_in_to_mailing_list</th>\n",
       "      <th>enabled_for_marketing_drip</th>\n",
       "      <th>org_id</th>\n",
       "      <th>invited_by_user_id</th>\n",
       "    </tr>\n",
       "    <tr>\n",
       "      <th>object_id</th>\n",
       "      <th></th>\n",
       "      <th></th>\n",
       "      <th></th>\n",
       "      <th></th>\n",
       "      <th></th>\n",
       "      <th></th>\n",
       "      <th></th>\n",
       "      <th></th>\n",
       "      <th></th>\n",
       "    </tr>\n",
       "  </thead>\n",
       "  <tbody>\n",
       "    <tr>\n",
       "      <th>1</th>\n",
       "      <td>2014-04-22 03:53:30</td>\n",
       "      <td>Clausen August</td>\n",
       "      <td>AugustCClausen@yahoo.com</td>\n",
       "      <td>GUEST_INVITE</td>\n",
       "      <td>0 days 00:00:01.398138810</td>\n",
       "      <td>True</td>\n",
       "      <td>False</td>\n",
       "      <td>11</td>\n",
       "      <td>10803</td>\n",
       "    </tr>\n",
       "    <tr>\n",
       "      <th>2</th>\n",
       "      <td>2013-11-15 03:45:04</td>\n",
       "      <td>Poole Matthew</td>\n",
       "      <td>MatthewPoole@gustr.com</td>\n",
       "      <td>ORG_INVITE</td>\n",
       "      <td>0 days 00:00:01.396237504</td>\n",
       "      <td>False</td>\n",
       "      <td>False</td>\n",
       "      <td>1</td>\n",
       "      <td>316</td>\n",
       "    </tr>\n",
       "    <tr>\n",
       "      <th>3</th>\n",
       "      <td>2013-03-19 23:14:52</td>\n",
       "      <td>Bottrill Mitchell</td>\n",
       "      <td>MitchellBottrill@gustr.com</td>\n",
       "      <td>ORG_INVITE</td>\n",
       "      <td>0 days 00:00:01.363734892</td>\n",
       "      <td>False</td>\n",
       "      <td>False</td>\n",
       "      <td>94</td>\n",
       "      <td>1525</td>\n",
       "    </tr>\n",
       "    <tr>\n",
       "      <th>4</th>\n",
       "      <td>2013-05-21 08:09:28</td>\n",
       "      <td>Clausen Nicklas</td>\n",
       "      <td>NicklasSClausen@yahoo.com</td>\n",
       "      <td>GUEST_INVITE</td>\n",
       "      <td>0 days 00:00:01.369210168</td>\n",
       "      <td>False</td>\n",
       "      <td>False</td>\n",
       "      <td>1</td>\n",
       "      <td>5151</td>\n",
       "    </tr>\n",
       "    <tr>\n",
       "      <th>5</th>\n",
       "      <td>2013-01-17 10:14:20</td>\n",
       "      <td>Raw Grace</td>\n",
       "      <td>GraceRaw@yahoo.com</td>\n",
       "      <td>GUEST_INVITE</td>\n",
       "      <td>0 days 00:00:01.358849660</td>\n",
       "      <td>False</td>\n",
       "      <td>False</td>\n",
       "      <td>193</td>\n",
       "      <td>5240</td>\n",
       "    </tr>\n",
       "    <tr>\n",
       "      <th>...</th>\n",
       "      <td>...</td>\n",
       "      <td>...</td>\n",
       "      <td>...</td>\n",
       "      <td>...</td>\n",
       "      <td>...</td>\n",
       "      <td>...</td>\n",
       "      <td>...</td>\n",
       "      <td>...</td>\n",
       "      <td>...</td>\n",
       "    </tr>\n",
       "    <tr>\n",
       "      <th>11996</th>\n",
       "      <td>2013-09-06 06:14:15</td>\n",
       "      <td>Meier Sophia</td>\n",
       "      <td>SophiaMeier@gustr.com</td>\n",
       "      <td>ORG_INVITE</td>\n",
       "      <td>0 days 00:00:01.378448055</td>\n",
       "      <td>False</td>\n",
       "      <td>False</td>\n",
       "      <td>89</td>\n",
       "      <td>8263</td>\n",
       "    </tr>\n",
       "    <tr>\n",
       "      <th>11997</th>\n",
       "      <td>2013-01-10 18:28:37</td>\n",
       "      <td>Fisher Amelie</td>\n",
       "      <td>AmelieFisher@gmail.com</td>\n",
       "      <td>SIGNUP_GOOGLE_AUTH</td>\n",
       "      <td>0 days 00:00:01.358274517</td>\n",
       "      <td>False</td>\n",
       "      <td>False</td>\n",
       "      <td>200</td>\n",
       "      <td>&lt;NA&gt;</td>\n",
       "    </tr>\n",
       "    <tr>\n",
       "      <th>11998</th>\n",
       "      <td>2014-04-27 12:45:16</td>\n",
       "      <td>Haynes Jake</td>\n",
       "      <td>JakeHaynes@cuvox.de</td>\n",
       "      <td>GUEST_INVITE</td>\n",
       "      <td>0 days 00:00:01.398602716</td>\n",
       "      <td>True</td>\n",
       "      <td>True</td>\n",
       "      <td>83</td>\n",
       "      <td>8074</td>\n",
       "    </tr>\n",
       "    <tr>\n",
       "      <th>11999</th>\n",
       "      <td>2012-05-31 11:55:59</td>\n",
       "      <td>Faber Annett</td>\n",
       "      <td>mhaerzxp@iuxiw.com</td>\n",
       "      <td>PERSONAL_PROJECTS</td>\n",
       "      <td>0 days 00:00:01.338638159</td>\n",
       "      <td>False</td>\n",
       "      <td>False</td>\n",
       "      <td>6</td>\n",
       "      <td>&lt;NA&gt;</td>\n",
       "    </tr>\n",
       "    <tr>\n",
       "      <th>12000</th>\n",
       "      <td>2014-01-26 08:57:12</td>\n",
       "      <td>Lima Tha�s</td>\n",
       "      <td>ThaisMeloLima@hotmail.com</td>\n",
       "      <td>SIGNUP</td>\n",
       "      <td>0 days 00:00:01.390726632</td>\n",
       "      <td>False</td>\n",
       "      <td>True</td>\n",
       "      <td>0</td>\n",
       "      <td>&lt;NA&gt;</td>\n",
       "    </tr>\n",
       "  </tbody>\n",
       "</table>\n",
       "<p>12000 rows × 9 columns</p>\n",
       "</div>"
      ]
     },
     "metadata": {},
     "execution_count": 77
    }
   ],
   "metadata": {}
  },
  {
   "cell_type": "code",
   "execution_count": 85,
   "source": [
    "# check missing values\r\n",
    "users.isna().sum()"
   ],
   "outputs": [
    {
     "output_type": "execute_result",
     "data": {
      "text/plain": [
       "creation_time                    0\n",
       "name                             0\n",
       "email                            0\n",
       "creation_source                  0\n",
       "last_session_creation_time    3177\n",
       "opted_in_to_mailing_list         0\n",
       "enabled_for_marketing_drip       0\n",
       "org_id                           0\n",
       "invited_by_user_id            5583\n",
       "dtype: int64"
      ]
     },
     "metadata": {},
     "execution_count": 85
    }
   ],
   "metadata": {}
  },
  {
   "cell_type": "markdown",
   "source": [
    "About 25% of the last_session_creation_time is missing. This means that the user account was made by the users never logged in after making the account.\r\n",
    "Over 45% of invited_by_user_id is missing. This means that the user created an account without being invited by a current user.\r\n",
    "\r\n",
    "Let's check if there is any overlap between users who never logged in after making an account, and users who created an account without being invited by a current user."
   ],
   "metadata": {}
  },
  {
   "cell_type": "code",
   "execution_count": 94,
   "source": [
    "never_logged_in"
   ],
   "outputs": [
    {
     "output_type": "execute_result",
     "data": {
      "text/plain": [
       "object_id\n",
       "1        False\n",
       "2        False\n",
       "3        False\n",
       "4        False\n",
       "5        False\n",
       "         ...  \n",
       "11996    False\n",
       "11997    False\n",
       "11998    False\n",
       "11999    False\n",
       "12000    False\n",
       "Name: last_session_creation_time, Length: 12000, dtype: bool"
      ]
     },
     "metadata": {},
     "execution_count": 94
    }
   ],
   "metadata": {}
  },
  {
   "cell_type": "code",
   "execution_count": 105,
   "source": [
    "uninvited = users['invited_by_user_id'].isna()\r\n",
    "never_logged_in = users['last_session_creation_time'].isna()\r\n",
    "\r\n",
    "print(f'There are {users[uninvited & never_logged_in].shape[0]} uninvited users who created an account but never logged in.')\r\n",
    "print(f'There are {users[uninvited & ~never_logged_in].shape[0]} uninvited users who created an account logged in at least once.\\n')\r\n",
    "\r\n",
    "print(f'There are {users[~uninvited & never_logged_in].shape[0]} invited users who created an account but never logged in.')\r\n",
    "print(f'There are {users[~uninvited & ~never_logged_in].shape[0]} invited users who created an account logged in at least once.')\r\n"
   ],
   "outputs": [
    {
     "output_type": "stream",
     "name": "stdout",
     "text": [
      "There are 1536 uninvited users who created an account but never logged in.\n",
      "There are 4047 uninvited users who created an account logged in at least once.\n",
      "\n",
      "There are 1641 invited users who created an account but never logged in.\n",
      "There are 4776 invited users who created an account logged in at least once.\n"
     ]
    }
   ],
   "metadata": {}
  },
  {
   "cell_type": "markdown",
   "source": [
    "About 75% percent of accounts login at least once. \r\n",
    "Invited users are more likely to login at least once, relative to uninvited users."
   ],
   "metadata": {}
  },
  {
   "cell_type": "code",
   "execution_count": 74,
   "source": [
    "# check for  duplicate rows\r\n",
    "users.duplicated().sum()"
   ],
   "outputs": [
    {
     "output_type": "execute_result",
     "data": {
      "text/plain": [
       "0"
      ]
     },
     "metadata": {},
     "execution_count": 74
    }
   ],
   "metadata": {}
  },
  {
   "cell_type": "markdown",
   "source": [
    "There are no duplicate rows in the users table."
   ],
   "metadata": {}
  },
  {
   "cell_type": "code",
   "execution_count": 86,
   "source": [
    "# check for duplicates in each column\r\n",
    "for col in ['creation_time', \r\n",
    "            'name', \r\n",
    "            'email', \r\n",
    "            'creation_source',\r\n",
    "            'last_session_creation_time', \r\n",
    "            'org_id',\r\n",
    "            'invited_by_user_id']:\r\n",
    "    print(f'col:{col}\\nduplicated count:{users[col].duplicated().sum()}\\n')\r\n",
    "    "
   ],
   "outputs": [
    {
     "output_type": "stream",
     "name": "stdout",
     "text": [
      "col:creation_time\n",
      "duplicated count:4\n",
      "\n",
      "col:name\n",
      "duplicated count:651\n",
      "\n",
      "col:email\n",
      "duplicated count:20\n",
      "\n",
      "col:creation_source\n",
      "duplicated count:11995\n",
      "\n",
      "col:last_session_creation_time\n",
      "duplicated count:3178\n",
      "\n",
      "col:org_id\n",
      "duplicated count:11583\n",
      "\n",
      "col:invited_by_user_id\n",
      "duplicated count:9435\n",
      "\n"
     ]
    }
   ],
   "metadata": {}
  },
  {
   "cell_type": "markdown",
   "source": [
    "Unexpectedly, there are:\r\n",
    "651 duplicated names in the data,\r\n",
    "20 duplicated emails,\r\n",
    "\r\n",
    "Expectedly:\r\n",
    "99% of the data for creation_source is duplicated,\r\n",
    "95% of the data in org_id is duplicated.\r\n"
   ],
   "metadata": {}
  },
  {
   "cell_type": "code",
   "execution_count": 106,
   "source": [
    "\r\n"
   ],
   "outputs": [],
   "metadata": {}
  },
  {
   "cell_type": "code",
   "execution_count": null,
   "source": [],
   "outputs": [],
   "metadata": {}
  }
 ],
 "metadata": {
  "orig_nbformat": 4,
  "language_info": {
   "name": "python"
  }
 },
 "nbformat": 4,
 "nbformat_minor": 2
}